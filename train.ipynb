{
 "cells": [
  {
   "cell_type": "markdown",
   "id": "daa930dd-8420-4723-b8c4-4d2b8e610d53",
   "metadata": {},
   "source": [
    "# Training YOLO object detection models"
   ]
  },
  {
   "cell_type": "markdown",
   "id": "d2eb5fdf-ec50-4c0f-9454-522bb2db3329",
   "metadata": {
    "tags": []
   },
   "source": [
    "## Install dependencies (you can do these on command line too)"
   ]
  },
  {
   "cell_type": "markdown",
   "id": "3034430e-6ff1-497a-be74-f6d62e9b54a7",
   "metadata": {},
   "source": [
    "### Install `ultralyics` library to load any pre-trained `YOLOv<>` weights"
   ]
  },
  {
   "cell_type": "code",
   "execution_count": 1,
   "id": "25fd763a-c2ac-449e-a96f-1c8d0dcd7458",
   "metadata": {},
   "outputs": [
    {
     "name": "stdout",
     "output_type": "stream",
     "text": [
      "Collecting ultralytics\n",
      "  Using cached ultralytics-8.3.34-py3-none-any.whl.metadata (35 kB)\n",
      "Requirement already satisfied: numpy>=1.23.0 in /opt/conda/envs/sagemaker-distribution/lib/python3.10/site-packages (from ultralytics) (1.26.4)\n",
      "Requirement already satisfied: matplotlib>=3.3.0 in /opt/conda/envs/sagemaker-distribution/lib/python3.10/site-packages (from ultralytics) (3.8.4)\n",
      "Collecting opencv-python>=4.6.0 (from ultralytics)\n",
      "  Using cached opencv_python-4.10.0.84-cp37-abi3-manylinux_2_17_x86_64.manylinux2014_x86_64.whl.metadata (20 kB)\n",
      "Requirement already satisfied: pillow>=7.1.2 in /opt/conda/envs/sagemaker-distribution/lib/python3.10/site-packages (from ultralytics) (10.3.0)\n",
      "Requirement already satisfied: pyyaml>=5.3.1 in /opt/conda/envs/sagemaker-distribution/lib/python3.10/site-packages (from ultralytics) (6.0.1)\n",
      "Requirement already satisfied: requests>=2.23.0 in /opt/conda/envs/sagemaker-distribution/lib/python3.10/site-packages (from ultralytics) (2.31.0)\n",
      "Requirement already satisfied: scipy>=1.4.1 in /opt/conda/envs/sagemaker-distribution/lib/python3.10/site-packages (from ultralytics) (1.11.4)\n",
      "Requirement already satisfied: torch>=1.8.0 in /opt/conda/envs/sagemaker-distribution/lib/python3.10/site-packages (from ultralytics) (2.0.0.post304)\n",
      "Requirement already satisfied: torchvision>=0.9.0 in /opt/conda/envs/sagemaker-distribution/lib/python3.10/site-packages (from ultralytics) (0.15.2a0+ab7b3e6)\n",
      "Requirement already satisfied: tqdm>=4.64.0 in /opt/conda/envs/sagemaker-distribution/lib/python3.10/site-packages (from ultralytics) (4.66.4)\n",
      "Requirement already satisfied: psutil in /opt/conda/envs/sagemaker-distribution/lib/python3.10/site-packages (from ultralytics) (5.9.8)\n",
      "Collecting py-cpuinfo (from ultralytics)\n",
      "  Using cached py_cpuinfo-9.0.0-py3-none-any.whl.metadata (794 bytes)\n",
      "Requirement already satisfied: pandas>=1.1.4 in /opt/conda/envs/sagemaker-distribution/lib/python3.10/site-packages (from ultralytics) (2.1.4)\n",
      "Collecting seaborn>=0.11.0 (from ultralytics)\n",
      "  Using cached seaborn-0.13.2-py3-none-any.whl.metadata (5.4 kB)\n",
      "Collecting ultralytics-thop>=2.0.0 (from ultralytics)\n",
      "  Using cached ultralytics_thop-2.0.12-py3-none-any.whl.metadata (9.4 kB)\n",
      "Requirement already satisfied: contourpy>=1.0.1 in /opt/conda/envs/sagemaker-distribution/lib/python3.10/site-packages (from matplotlib>=3.3.0->ultralytics) (1.2.1)\n",
      "Requirement already satisfied: cycler>=0.10 in /opt/conda/envs/sagemaker-distribution/lib/python3.10/site-packages (from matplotlib>=3.3.0->ultralytics) (0.12.1)\n",
      "Requirement already satisfied: fonttools>=4.22.0 in /opt/conda/envs/sagemaker-distribution/lib/python3.10/site-packages (from matplotlib>=3.3.0->ultralytics) (4.51.0)\n",
      "Requirement already satisfied: kiwisolver>=1.3.1 in /opt/conda/envs/sagemaker-distribution/lib/python3.10/site-packages (from matplotlib>=3.3.0->ultralytics) (1.4.5)\n",
      "Requirement already satisfied: packaging>=20.0 in /opt/conda/envs/sagemaker-distribution/lib/python3.10/site-packages (from matplotlib>=3.3.0->ultralytics) (23.2)\n",
      "Requirement already satisfied: pyparsing>=2.3.1 in /opt/conda/envs/sagemaker-distribution/lib/python3.10/site-packages (from matplotlib>=3.3.0->ultralytics) (3.1.2)\n",
      "Requirement already satisfied: python-dateutil>=2.7 in /opt/conda/envs/sagemaker-distribution/lib/python3.10/site-packages (from matplotlib>=3.3.0->ultralytics) (2.9.0)\n",
      "Requirement already satisfied: pytz>=2020.1 in /opt/conda/envs/sagemaker-distribution/lib/python3.10/site-packages (from pandas>=1.1.4->ultralytics) (2023.3)\n",
      "Requirement already satisfied: tzdata>=2022.1 in /opt/conda/envs/sagemaker-distribution/lib/python3.10/site-packages (from pandas>=1.1.4->ultralytics) (2024.1)\n",
      "Requirement already satisfied: charset-normalizer<4,>=2 in /opt/conda/envs/sagemaker-distribution/lib/python3.10/site-packages (from requests>=2.23.0->ultralytics) (3.3.2)\n",
      "Requirement already satisfied: idna<4,>=2.5 in /opt/conda/envs/sagemaker-distribution/lib/python3.10/site-packages (from requests>=2.23.0->ultralytics) (3.7)\n",
      "Requirement already satisfied: urllib3<3,>=1.21.1 in /opt/conda/envs/sagemaker-distribution/lib/python3.10/site-packages (from requests>=2.23.0->ultralytics) (1.26.18)\n",
      "Requirement already satisfied: certifi>=2017.4.17 in /opt/conda/envs/sagemaker-distribution/lib/python3.10/site-packages (from requests>=2.23.0->ultralytics) (2024.2.2)\n",
      "Requirement already satisfied: filelock in /opt/conda/envs/sagemaker-distribution/lib/python3.10/site-packages (from torch>=1.8.0->ultralytics) (3.14.0)\n",
      "Requirement already satisfied: typing-extensions in /opt/conda/envs/sagemaker-distribution/lib/python3.10/site-packages (from torch>=1.8.0->ultralytics) (4.11.0)\n",
      "Requirement already satisfied: sympy in /opt/conda/envs/sagemaker-distribution/lib/python3.10/site-packages (from torch>=1.8.0->ultralytics) (1.12)\n",
      "Requirement already satisfied: networkx in /opt/conda/envs/sagemaker-distribution/lib/python3.10/site-packages (from torch>=1.8.0->ultralytics) (3.3)\n",
      "Requirement already satisfied: jinja2 in /opt/conda/envs/sagemaker-distribution/lib/python3.10/site-packages (from torch>=1.8.0->ultralytics) (3.1.4)\n",
      "Requirement already satisfied: six>=1.5 in /opt/conda/envs/sagemaker-distribution/lib/python3.10/site-packages (from python-dateutil>=2.7->matplotlib>=3.3.0->ultralytics) (1.16.0)\n",
      "Requirement already satisfied: MarkupSafe>=2.0 in /opt/conda/envs/sagemaker-distribution/lib/python3.10/site-packages (from jinja2->torch>=1.8.0->ultralytics) (2.1.5)\n",
      "Requirement already satisfied: mpmath>=0.19 in /opt/conda/envs/sagemaker-distribution/lib/python3.10/site-packages (from sympy->torch>=1.8.0->ultralytics) (1.3.0)\n",
      "Using cached ultralytics-8.3.34-py3-none-any.whl (887 kB)\n",
      "Using cached opencv_python-4.10.0.84-cp37-abi3-manylinux_2_17_x86_64.manylinux2014_x86_64.whl (62.5 MB)\n",
      "Using cached seaborn-0.13.2-py3-none-any.whl (294 kB)\n",
      "Using cached ultralytics_thop-2.0.12-py3-none-any.whl (26 kB)\n",
      "Using cached py_cpuinfo-9.0.0-py3-none-any.whl (22 kB)\n",
      "Installing collected packages: py-cpuinfo, opencv-python, ultralytics-thop, seaborn, ultralytics\n",
      "Successfully installed opencv-python-4.10.0.84 py-cpuinfo-9.0.0 seaborn-0.13.2 ultralytics-8.3.34 ultralytics-thop-2.0.12\n"
     ]
    }
   ],
   "source": [
    "! pip install ultralytics"
   ]
  },
  {
   "cell_type": "markdown",
   "id": "53b1c09c-45ad-473a-9ce1-caaed4154f43",
   "metadata": {},
   "source": [
    "### (Optional) Install `clearml` library to automatically track and monitor our training results"
   ]
  },
  {
   "cell_type": "markdown",
   "id": "3e7946e9-eb20-47ce-b62b-0870dece8be3",
   "metadata": {
    "tags": []
   },
   "source": [
    "1. Create a ClearML account by visiting https://clear.ml/\n",
    "2. Once your account is setup, go to Settings(found by clicking the account icon) → Workspace and click on **Create new credentials**\n",
    "3. Copy the API key given"
   ]
  },
  {
   "cell_type": "code",
   "execution_count": 2,
   "id": "3423540f-38b3-4df9-820c-50b209e84207",
   "metadata": {},
   "outputs": [
    {
     "name": "stdout",
     "output_type": "stream",
     "text": [
      "Collecting clearml\n",
      "  Using cached clearml-1.16.5-py2.py3-none-any.whl.metadata (17 kB)\n",
      "Requirement already satisfied: attrs>=18.0 in /opt/conda/envs/sagemaker-distribution/lib/python3.10/site-packages (from clearml) (23.2.0)\n",
      "Collecting furl>=2.0.0 (from clearml)\n",
      "  Using cached furl-2.1.3-py2.py3-none-any.whl.metadata (1.2 kB)\n",
      "Requirement already satisfied: jsonschema>=2.6.0 in /opt/conda/envs/sagemaker-distribution/lib/python3.10/site-packages (from clearml) (4.17.3)\n",
      "Requirement already satisfied: numpy>=1.10 in /opt/conda/envs/sagemaker-distribution/lib/python3.10/site-packages (from clearml) (1.26.4)\n",
      "Collecting pathlib2>=2.3.0 (from clearml)\n",
      "  Using cached pathlib2-2.3.7.post1-py2.py3-none-any.whl.metadata (3.5 kB)\n",
      "Requirement already satisfied: Pillow>=4.1.1 in /opt/conda/envs/sagemaker-distribution/lib/python3.10/site-packages (from clearml) (10.3.0)\n",
      "Requirement already satisfied: psutil>=3.4.2 in /opt/conda/envs/sagemaker-distribution/lib/python3.10/site-packages (from clearml) (5.9.8)\n",
      "Requirement already satisfied: pyparsing>=2.0.3 in /opt/conda/envs/sagemaker-distribution/lib/python3.10/site-packages (from clearml) (3.1.2)\n",
      "Requirement already satisfied: python-dateutil>=2.6.1 in /opt/conda/envs/sagemaker-distribution/lib/python3.10/site-packages (from clearml) (2.9.0)\n",
      "Requirement already satisfied: PyYAML>=3.12 in /opt/conda/envs/sagemaker-distribution/lib/python3.10/site-packages (from clearml) (6.0.1)\n",
      "Requirement already satisfied: requests>=2.20.0 in /opt/conda/envs/sagemaker-distribution/lib/python3.10/site-packages (from clearml) (2.31.0)\n",
      "Requirement already satisfied: six>=1.16.0 in /opt/conda/envs/sagemaker-distribution/lib/python3.10/site-packages (from clearml) (1.16.0)\n",
      "Requirement already satisfied: urllib3>=1.21.1 in /opt/conda/envs/sagemaker-distribution/lib/python3.10/site-packages (from clearml) (1.26.18)\n",
      "Requirement already satisfied: pyjwt<2.9.0,>=2.4.0 in /opt/conda/envs/sagemaker-distribution/lib/python3.10/site-packages (from clearml) (2.8.0)\n",
      "Collecting referencing<0.40 (from clearml)\n",
      "  Using cached referencing-0.35.1-py3-none-any.whl.metadata (2.8 kB)\n",
      "Collecting orderedmultidict>=1.0.1 (from furl>=2.0.0->clearml)\n",
      "  Using cached orderedmultidict-1.0.1-py2.py3-none-any.whl.metadata (1.3 kB)\n",
      "Requirement already satisfied: pyrsistent!=0.17.0,!=0.17.1,!=0.17.2,>=0.14.0 in /opt/conda/envs/sagemaker-distribution/lib/python3.10/site-packages (from jsonschema>=2.6.0->clearml) (0.20.0)\n",
      "Collecting rpds-py>=0.7.0 (from referencing<0.40->clearml)\n",
      "  Using cached rpds_py-0.21.0-cp310-cp310-manylinux_2_17_x86_64.manylinux2014_x86_64.whl.metadata (4.2 kB)\n",
      "Requirement already satisfied: charset-normalizer<4,>=2 in /opt/conda/envs/sagemaker-distribution/lib/python3.10/site-packages (from requests>=2.20.0->clearml) (3.3.2)\n",
      "Requirement already satisfied: idna<4,>=2.5 in /opt/conda/envs/sagemaker-distribution/lib/python3.10/site-packages (from requests>=2.20.0->clearml) (3.7)\n",
      "Requirement already satisfied: certifi>=2017.4.17 in /opt/conda/envs/sagemaker-distribution/lib/python3.10/site-packages (from requests>=2.20.0->clearml) (2024.2.2)\n",
      "Using cached clearml-1.16.5-py2.py3-none-any.whl (1.2 MB)\n",
      "Using cached furl-2.1.3-py2.py3-none-any.whl (20 kB)\n",
      "Using cached pathlib2-2.3.7.post1-py2.py3-none-any.whl (18 kB)\n",
      "Using cached referencing-0.35.1-py3-none-any.whl (26 kB)\n",
      "Using cached orderedmultidict-1.0.1-py2.py3-none-any.whl (11 kB)\n",
      "Using cached rpds_py-0.21.0-cp310-cp310-manylinux_2_17_x86_64.manylinux2014_x86_64.whl (360 kB)\n",
      "Installing collected packages: rpds-py, pathlib2, orderedmultidict, referencing, furl, clearml\n",
      "Successfully installed clearml-1.16.5 furl-2.1.3 orderedmultidict-1.0.1 pathlib2-2.3.7.post1 referencing-0.35.1 rpds-py-0.21.0\n",
      "ClearML SDK setup process\n",
      "Configuration file already exists: /home/studio-lab-user/clearml.conf\n",
      "Leaving setup, feel free to edit the configuration file.\n"
     ]
    }
   ],
   "source": [
    "! pip install clearml\n",
    "! clearml-init"
   ]
  },
  {
   "cell_type": "markdown",
   "id": "6f043e44-9ad3-4151-83c4-cf00363dafea",
   "metadata": {
    "tags": []
   },
   "source": [
    "In the above cell, you will be prompted to enter your API key. Paste the API key into the field"
   ]
  },
  {
   "cell_type": "markdown",
   "id": "263a1e8d-aa40-48da-b17e-36151639acf5",
   "metadata": {},
   "source": [
    "### (if running on command line) Install `libglib` module for the model to run"
   ]
  },
  {
   "cell_type": "code",
   "execution_count": null,
   "id": "a268814e-e36e-44d7-ab6c-9b012c3335ba",
   "metadata": {},
   "outputs": [],
   "source": [
    "# ! conda install libglib"
   ]
  },
  {
   "cell_type": "markdown",
   "id": "50384a67-c6d2-4347-b92b-24f4c4e2f9da",
   "metadata": {},
   "source": [
    "## Creating the YAML file for the dataset"
   ]
  },
  {
   "cell_type": "markdown",
   "id": "0032b675-53a9-4862-88e1-4dd859ae45c9",
   "metadata": {},
   "source": [
    "Once the dataset is loaded in the datasets directory, we need to create a YAML file to define the paths to the images and the class names.  \n",
    "It is suggested that the YAML file be created in the same directory as this notebook, otherwise you will have to manually enter the path down the lane "
   ]
  },
  {
   "cell_type": "markdown",
   "id": "fdd3ecb6-ef1b-49fe-b14f-88f181c49b53",
   "metadata": {},
   "source": [
    "The file contents should be similar to the following:\n",
    "```\n",
    "path: <directory name of the dataset>/\n",
    "\n",
    "# depending on your test-train-validation split, mention the directory names under which your test/train/validation images are present\n",
    "train: 'train/images' # replace 'train' with the directory name containing your training images\n",
    "val: 'valid/images' # replace 'valid' with the directory name containing your validation images\n",
    " \n",
    "# class names\n",
    "names: \n",
    "  0: 'class_0'  \n",
    "  1: 'class_1'\n",
    "  2: 'class_2'\n",
    "  ...\n",
    "```"
   ]
  },
  {
   "cell_type": "markdown",
   "id": "abb0c42c-ba08-4bd1-8c12-71efb73c7dee",
   "metadata": {},
   "source": [
    "## Training the YOLO model"
   ]
  },
  {
   "cell_type": "code",
   "execution_count": 4,
   "id": "0fc042a8-c102-41a4-8ed7-0c1cfee0db5f",
   "metadata": {},
   "outputs": [
    {
     "name": "stdout",
     "output_type": "stream",
     "text": [
      "Downloading https://github.com/ultralytics/assets/releases/download/v8.3.0/yolov8s.pt to 'yolov8s.pt'...\n"
     ]
    },
    {
     "name": "stderr",
     "output_type": "stream",
     "text": [
      "100%|██████████| 21.5M/21.5M [00:00<00:00, 60.1MB/s]"
     ]
    },
    {
     "name": "stdout",
     "output_type": "stream",
     "text": [
      "Ultralytics 8.3.34 🚀 Python-3.10.14 torch-2.0.0.post304 CUDA:0 (Tesla T4, 14918MiB)\n",
      "\u001b[34m\u001b[1mengine/trainer: \u001b[0mtask=detect, mode=train, model=yolov8s.pt, data=data.yaml, epochs=20, time=None, patience=100, batch=16, imgsz=640, save=True, save_period=-1, cache=False, device=None, workers=8, project=None, name=yolov8n_cv_traffic_sign_detection, exist_ok=False, pretrained=True, optimizer=auto, verbose=True, seed=0, deterministic=True, single_cls=False, rect=False, cos_lr=False, close_mosaic=10, resume=False, amp=True, fraction=1.0, profile=False, freeze=None, multi_scale=False, overlap_mask=True, mask_ratio=4, dropout=0.0, val=True, split=val, save_json=False, save_hybrid=False, conf=None, iou=0.7, max_det=300, half=False, dnn=False, plots=True, source=None, vid_stride=1, stream_buffer=False, visualize=False, augment=False, agnostic_nms=False, classes=None, retina_masks=False, embed=None, show=False, save_frames=False, save_txt=False, save_conf=False, save_crop=False, show_labels=True, show_conf=True, show_boxes=True, line_width=None, format=torchscript, keras=False, optimize=False, int8=False, dynamic=False, simplify=True, opset=None, workspace=4, nms=False, lr0=0.01, lrf=0.01, momentum=0.937, weight_decay=0.0005, warmup_epochs=3.0, warmup_momentum=0.8, warmup_bias_lr=0.1, box=7.5, cls=0.5, dfl=1.5, pose=12.0, kobj=1.0, label_smoothing=0.0, nbs=64, hsv_h=0.015, hsv_s=0.7, hsv_v=0.4, degrees=0.0, translate=0.1, scale=0.5, shear=0.0, perspective=0.0, flipud=0.0, fliplr=0.5, bgr=0.0, mosaic=1.0, mixup=0.0, copy_paste=0.0, copy_paste_mode=flip, auto_augment=randaugment, erasing=0.4, crop_fraction=1.0, cfg=None, tracker=botsort.yaml, save_dir=runs/detect/yolov8n_cv_traffic_sign_detection\n",
      "Overriding model.yaml nc=80 with nc=15\n",
      "\n",
      "                   from  n    params  module                                       arguments                     \n",
      "  0                  -1  1       928  ultralytics.nn.modules.conv.Conv             [3, 32, 3, 2]                 \n",
      "  1                  -1  1     18560  ultralytics.nn.modules.conv.Conv             [32, 64, 3, 2]                \n",
      "  2                  -1  1     29056  ultralytics.nn.modules.block.C2f             [64, 64, 1, True]             \n",
      "  3                  -1  1     73984  ultralytics.nn.modules.conv.Conv             [64, 128, 3, 2]               \n",
      "  4                  -1  2    197632  ultralytics.nn.modules.block.C2f             [128, 128, 2, True]           \n",
      "  5                  -1  1    295424  ultralytics.nn.modules.conv.Conv             [128, 256, 3, 2]              \n",
      "  6                  -1  2    788480  ultralytics.nn.modules.block.C2f             [256, 256, 2, True]           \n",
      "  7                  -1  1   1180672  ultralytics.nn.modules.conv.Conv             [256, 512, 3, 2]              \n",
      "  8                  -1  1   1838080  ultralytics.nn.modules.block.C2f             [512, 512, 1, True]           \n",
      "  9                  -1  1    656896  ultralytics.nn.modules.block.SPPF            [512, 512, 5]                 \n",
      " 10                  -1  1         0  torch.nn.modules.upsampling.Upsample         [None, 2, 'nearest']          \n",
      " 11             [-1, 6]  1         0  ultralytics.nn.modules.conv.Concat           [1]                           \n",
      " 12                  -1  1    591360  ultralytics.nn.modules.block.C2f             [768, 256, 1]                 \n",
      " 13                  -1  1         0  torch.nn.modules.upsampling.Upsample         [None, 2, 'nearest']          \n",
      " 14             [-1, 4]  1         0  ultralytics.nn.modules.conv.Concat           [1]                           \n",
      " 15                  -1  1    148224  ultralytics.nn.modules.block.C2f             [384, 128, 1]                 \n",
      " 16                  -1  1    147712  ultralytics.nn.modules.conv.Conv             [128, 128, 3, 2]              \n",
      " 17            [-1, 12]  1         0  ultralytics.nn.modules.conv.Concat           [1]                           \n",
      " 18                  -1  1    493056  ultralytics.nn.modules.block.C2f             [384, 256, 1]                 \n",
      " 19                  -1  1    590336  ultralytics.nn.modules.conv.Conv             [256, 256, 3, 2]              \n",
      " 20             [-1, 9]  1         0  ultralytics.nn.modules.conv.Concat           [1]                           \n"
     ]
    },
    {
     "name": "stderr",
     "output_type": "stream",
     "text": [
      "\n"
     ]
    },
    {
     "name": "stdout",
     "output_type": "stream",
     "text": [
      " 21                  -1  1   1969152  ultralytics.nn.modules.block.C2f             [768, 512, 1]                 \n",
      " 22        [15, 18, 21]  1   2121853  ultralytics.nn.modules.head.Detect           [15, [128, 256, 512]]         \n",
      "Model summary: 225 layers, 11,141,405 parameters, 11,141,389 gradients, 28.7 GFLOPs\n",
      "\n",
      "Transferred 349/355 items from pretrained weights\n",
      "\u001b[34m\u001b[1mTensorBoard: \u001b[0mStart with 'tensorboard --logdir runs/detect/yolov8n_cv_traffic_sign_detection', view at http://localhost:6006/\n",
      "Freezing layer 'model.22.dfl.conv.weight'\n",
      "\u001b[34m\u001b[1mAMP: \u001b[0mrunning Automatic Mixed Precision (AMP) checks...\n",
      "\u001b[34m\u001b[1mAMP: \u001b[0mchecks passed ✅\n"
     ]
    },
    {
     "name": "stderr",
     "output_type": "stream",
     "text": [
      "\u001b[34m\u001b[1mtrain: \u001b[0mScanning /home/studio-lab-user/datasets/datasets/test.cache... 4969 images, 4 backgrounds, 0 corrupt: 100%|██████████| 4969/4969 [00:00<?, ?it/s]\n",
      "\u001b[34m\u001b[1mval: \u001b[0mScanning /home/studio-lab-user/datasets/datasets/test.cache... 4969 images, 4 backgrounds, 0 corrupt: 100%|██████████| 4969/4969 [00:00<?, ?it/s]\n"
     ]
    },
    {
     "name": "stdout",
     "output_type": "stream",
     "text": [
      "Plotting labels to runs/detect/yolov8n_cv_traffic_sign_detection/labels.jpg... \n",
      "\u001b[34m\u001b[1moptimizer:\u001b[0m 'optimizer=auto' found, ignoring 'lr0=0.01' and 'momentum=0.937' and determining best 'optimizer', 'lr0' and 'momentum' automatically... \n",
      "\u001b[34m\u001b[1moptimizer:\u001b[0m AdamW(lr=0.000526, momentum=0.9) with parameter groups 57 weight(decay=0.0), 64 weight(decay=0.0005), 63 bias(decay=0.0)\n",
      "\u001b[34m\u001b[1mTensorBoard: \u001b[0mmodel graph visualization added ✅\n",
      "Image sizes 640 train, 640 val\n",
      "Using 4 dataloader workers\n",
      "Logging results to \u001b[1mruns/detect/yolov8n_cv_traffic_sign_detection\u001b[0m\n",
      "Starting training for 20 epochs...\n",
      "\n",
      "      Epoch    GPU_mem   box_loss   cls_loss   dfl_loss  Instances       Size\n"
     ]
    },
    {
     "name": "stderr",
     "output_type": "stream",
     "text": [
      "       1/20      6.08G     0.8212      3.127      1.157         17        640: 100%|██████████| 311/311 [01:13<00:00,  4.26it/s]\n",
      "                 Class     Images  Instances      Box(P          R      mAP50  mAP50-95): 100%|██████████| 156/156 [00:38<00:00,  4.01it/s]\n"
     ]
    },
    {
     "name": "stdout",
     "output_type": "stream",
     "text": [
      "                   all       4969       6012      0.482      0.531      0.451       0.36\n",
      "\n",
      "      Epoch    GPU_mem   box_loss   cls_loss   dfl_loss  Instances       Size\n"
     ]
    },
    {
     "name": "stderr",
     "output_type": "stream",
     "text": [
      "       2/20      6.08G     0.7252      1.452       1.07         23        640: 100%|██████████| 311/311 [01:09<00:00,  4.46it/s]\n",
      "                 Class     Images  Instances      Box(P          R      mAP50  mAP50-95): 100%|██████████| 156/156 [00:38<00:00,  4.06it/s]\n"
     ]
    },
    {
     "name": "stdout",
     "output_type": "stream",
     "text": [
      "                   all       4969       6012      0.727      0.539       0.62      0.498\n",
      "\n",
      "      Epoch    GPU_mem   box_loss   cls_loss   dfl_loss  Instances       Size\n"
     ]
    },
    {
     "name": "stderr",
     "output_type": "stream",
     "text": [
      "       3/20      5.99G     0.7214      1.222      1.067         21        640: 100%|██████████| 311/311 [01:08<00:00,  4.56it/s]\n",
      "                 Class     Images  Instances      Box(P          R      mAP50  mAP50-95): 100%|██████████| 156/156 [00:39<00:00,  3.99it/s]"
     ]
    },
    {
     "name": "stdout",
     "output_type": "stream",
     "text": [
      "                   all       4969       6012      0.862      0.643      0.746      0.621\n"
     ]
    },
    {
     "name": "stderr",
     "output_type": "stream",
     "text": [
      "\n"
     ]
    },
    {
     "name": "stdout",
     "output_type": "stream",
     "text": [
      "\n",
      "      Epoch    GPU_mem   box_loss   cls_loss   dfl_loss  Instances       Size\n"
     ]
    },
    {
     "name": "stderr",
     "output_type": "stream",
     "text": [
      "       4/20      6.06G     0.6866      1.089      1.045         19        640: 100%|██████████| 311/311 [01:07<00:00,  4.58it/s]\n",
      "                 Class     Images  Instances      Box(P          R      mAP50  mAP50-95): 100%|██████████| 156/156 [00:38<00:00,  4.01it/s]"
     ]
    },
    {
     "name": "stdout",
     "output_type": "stream",
     "text": [
      "                   all       4969       6012       0.88      0.666       0.77       0.64\n"
     ]
    },
    {
     "name": "stderr",
     "output_type": "stream",
     "text": [
      "\n"
     ]
    },
    {
     "name": "stdout",
     "output_type": "stream",
     "text": [
      "\n",
      "      Epoch    GPU_mem   box_loss   cls_loss   dfl_loss  Instances       Size\n"
     ]
    },
    {
     "name": "stderr",
     "output_type": "stream",
     "text": [
      "       5/20      6.06G      0.682      1.006      1.046         25        640: 100%|██████████| 311/311 [01:07<00:00,  4.57it/s]\n",
      "                 Class     Images  Instances      Box(P          R      mAP50  mAP50-95): 100%|██████████| 156/156 [00:39<00:00,  3.97it/s]"
     ]
    },
    {
     "name": "stdout",
     "output_type": "stream",
     "text": [
      "                   all       4969       6012      0.887      0.699      0.806      0.659\n"
     ]
    },
    {
     "name": "stderr",
     "output_type": "stream",
     "text": [
      "\n"
     ]
    },
    {
     "name": "stdout",
     "output_type": "stream",
     "text": [
      "\n",
      "      Epoch    GPU_mem   box_loss   cls_loss   dfl_loss  Instances       Size\n"
     ]
    },
    {
     "name": "stderr",
     "output_type": "stream",
     "text": [
      "       6/20      6.01G     0.6589      0.909      1.026         13        640: 100%|██████████| 311/311 [01:07<00:00,  4.58it/s]\n",
      "                 Class     Images  Instances      Box(P          R      mAP50  mAP50-95): 100%|██████████| 156/156 [00:39<00:00,  3.98it/s]"
     ]
    },
    {
     "name": "stdout",
     "output_type": "stream",
     "text": [
      "                   all       4969       6012      0.808      0.763      0.834       0.69\n"
     ]
    },
    {
     "name": "stderr",
     "output_type": "stream",
     "text": [
      "\n"
     ]
    },
    {
     "name": "stdout",
     "output_type": "stream",
     "text": [
      "\n",
      "      Epoch    GPU_mem   box_loss   cls_loss   dfl_loss  Instances       Size\n"
     ]
    },
    {
     "name": "stderr",
     "output_type": "stream",
     "text": [
      "       7/20      5.99G      0.646     0.8754      1.022         16        640: 100%|██████████| 311/311 [01:08<00:00,  4.56it/s]\n",
      "                 Class     Images  Instances      Box(P          R      mAP50  mAP50-95): 100%|██████████| 156/156 [00:39<00:00,  4.00it/s]"
     ]
    },
    {
     "name": "stdout",
     "output_type": "stream",
     "text": [
      "                   all       4969       6012      0.949      0.742      0.861      0.711\n"
     ]
    },
    {
     "name": "stderr",
     "output_type": "stream",
     "text": [
      "\n"
     ]
    },
    {
     "name": "stdout",
     "output_type": "stream",
     "text": [
      "\n",
      "      Epoch    GPU_mem   box_loss   cls_loss   dfl_loss  Instances       Size\n"
     ]
    },
    {
     "name": "stderr",
     "output_type": "stream",
     "text": [
      "       8/20      6.06G     0.6249     0.7889       1.01         15        640: 100%|██████████| 311/311 [01:07<00:00,  4.58it/s]\n",
      "                 Class     Images  Instances      Box(P          R      mAP50  mAP50-95): 100%|██████████| 156/156 [00:38<00:00,  4.09it/s]"
     ]
    },
    {
     "name": "stdout",
     "output_type": "stream",
     "text": [
      "                   all       4969       6012      0.944      0.769       0.87      0.725\n"
     ]
    },
    {
     "name": "stderr",
     "output_type": "stream",
     "text": [
      "\n"
     ]
    },
    {
     "name": "stdout",
     "output_type": "stream",
     "text": [
      "\n",
      "      Epoch    GPU_mem   box_loss   cls_loss   dfl_loss  Instances       Size\n"
     ]
    },
    {
     "name": "stderr",
     "output_type": "stream",
     "text": [
      "       9/20      6.06G     0.6124     0.7537     0.9978         17        640: 100%|██████████| 311/311 [01:09<00:00,  4.51it/s]\n",
      "                 Class     Images  Instances      Box(P          R      mAP50  mAP50-95): 100%|██████████| 156/156 [00:38<00:00,  4.08it/s]"
     ]
    },
    {
     "name": "stdout",
     "output_type": "stream",
     "text": [
      "                   all       4969       6012      0.942      0.782      0.883      0.741\n"
     ]
    },
    {
     "name": "stderr",
     "output_type": "stream",
     "text": [
      "\n"
     ]
    },
    {
     "name": "stdout",
     "output_type": "stream",
     "text": [
      "\n",
      "      Epoch    GPU_mem   box_loss   cls_loss   dfl_loss  Instances       Size\n"
     ]
    },
    {
     "name": "stderr",
     "output_type": "stream",
     "text": [
      "      10/20      6.01G     0.5962     0.7302     0.9971         19        640: 100%|██████████| 311/311 [01:09<00:00,  4.50it/s]\n",
      "                 Class     Images  Instances      Box(P          R      mAP50  mAP50-95): 100%|██████████| 156/156 [00:38<00:00,  4.09it/s]"
     ]
    },
    {
     "name": "stdout",
     "output_type": "stream",
     "text": [
      "                   all       4969       6012       0.93      0.803      0.889      0.747\n"
     ]
    },
    {
     "name": "stderr",
     "output_type": "stream",
     "text": [
      "\n"
     ]
    },
    {
     "name": "stdout",
     "output_type": "stream",
     "text": [
      "Closing dataloader mosaic\n",
      "\n",
      "      Epoch    GPU_mem   box_loss   cls_loss   dfl_loss  Instances       Size\n"
     ]
    },
    {
     "name": "stderr",
     "output_type": "stream",
     "text": [
      "      11/20      6.14G     0.5973     0.4943     0.9743         12        640: 100%|██████████| 311/311 [01:09<00:00,  4.50it/s]\n",
      "                 Class     Images  Instances      Box(P          R      mAP50  mAP50-95): 100%|██████████| 156/156 [00:38<00:00,  4.10it/s]"
     ]
    },
    {
     "name": "stdout",
     "output_type": "stream",
     "text": [
      "                   all       4969       6012      0.852      0.812      0.875      0.734\n"
     ]
    },
    {
     "name": "stderr",
     "output_type": "stream",
     "text": [
      "\n"
     ]
    },
    {
     "name": "stdout",
     "output_type": "stream",
     "text": [
      "\n",
      "      Epoch    GPU_mem   box_loss   cls_loss   dfl_loss  Instances       Size\n"
     ]
    },
    {
     "name": "stderr",
     "output_type": "stream",
     "text": [
      "      12/20      6.06G     0.5835     0.4543     0.9607         12        640: 100%|██████████| 311/311 [01:07<00:00,  4.61it/s]\n",
      "                 Class     Images  Instances      Box(P          R      mAP50  mAP50-95): 100%|██████████| 156/156 [00:38<00:00,  4.02it/s]"
     ]
    },
    {
     "name": "stdout",
     "output_type": "stream",
     "text": [
      "                   all       4969       6012      0.856      0.845      0.902      0.765\n"
     ]
    },
    {
     "name": "stderr",
     "output_type": "stream",
     "text": [
      "\n"
     ]
    },
    {
     "name": "stdout",
     "output_type": "stream",
     "text": [
      "\n",
      "      Epoch    GPU_mem   box_loss   cls_loss   dfl_loss  Instances       Size\n"
     ]
    },
    {
     "name": "stderr",
     "output_type": "stream",
     "text": [
      "      13/20      6.06G     0.5711     0.4253     0.9535          9        640: 100%|██████████| 311/311 [01:07<00:00,  4.61it/s]\n",
      "                 Class     Images  Instances      Box(P          R      mAP50  mAP50-95): 100%|██████████| 156/156 [00:38<00:00,  4.01it/s]"
     ]
    },
    {
     "name": "stdout",
     "output_type": "stream",
     "text": [
      "                   all       4969       6012      0.883      0.887      0.931      0.787\n"
     ]
    },
    {
     "name": "stderr",
     "output_type": "stream",
     "text": [
      "\n"
     ]
    },
    {
     "name": "stdout",
     "output_type": "stream",
     "text": [
      "\n",
      "      Epoch    GPU_mem   box_loss   cls_loss   dfl_loss  Instances       Size\n"
     ]
    },
    {
     "name": "stderr",
     "output_type": "stream",
     "text": [
      "      14/20      6.01G     0.5592     0.4081     0.9457         11        640: 100%|██████████| 311/311 [01:07<00:00,  4.62it/s]\n",
      "                 Class     Images  Instances      Box(P          R      mAP50  mAP50-95): 100%|██████████| 156/156 [00:39<00:00,  3.99it/s]"
     ]
    },
    {
     "name": "stdout",
     "output_type": "stream",
     "text": [
      "                   all       4969       6012      0.921      0.863       0.93      0.794\n"
     ]
    },
    {
     "name": "stderr",
     "output_type": "stream",
     "text": [
      "\n"
     ]
    },
    {
     "name": "stdout",
     "output_type": "stream",
     "text": [
      "\n",
      "      Epoch    GPU_mem   box_loss   cls_loss   dfl_loss  Instances       Size\n"
     ]
    },
    {
     "name": "stderr",
     "output_type": "stream",
     "text": [
      "      15/20      5.99G     0.5488     0.3849     0.9381          9        640: 100%|██████████| 311/311 [01:07<00:00,  4.62it/s]\n",
      "                 Class     Images  Instances      Box(P          R      mAP50  mAP50-95): 100%|██████████| 156/156 [00:38<00:00,  4.01it/s]"
     ]
    },
    {
     "name": "stdout",
     "output_type": "stream",
     "text": [
      "                   all       4969       6012      0.918      0.898      0.944      0.803\n"
     ]
    },
    {
     "name": "stderr",
     "output_type": "stream",
     "text": [
      "\n"
     ]
    },
    {
     "name": "stdout",
     "output_type": "stream",
     "text": [
      "\n",
      "      Epoch    GPU_mem   box_loss   cls_loss   dfl_loss  Instances       Size\n"
     ]
    },
    {
     "name": "stderr",
     "output_type": "stream",
     "text": [
      "      16/20      6.06G     0.5343     0.3703     0.9348          9        640: 100%|██████████| 311/311 [01:07<00:00,  4.60it/s]\n",
      "                 Class     Images  Instances      Box(P          R      mAP50  mAP50-95): 100%|██████████| 156/156 [00:38<00:00,  4.01it/s]"
     ]
    },
    {
     "name": "stdout",
     "output_type": "stream",
     "text": [
      "                   all       4969       6012      0.938        0.9       0.95      0.815\n"
     ]
    },
    {
     "name": "stderr",
     "output_type": "stream",
     "text": [
      "\n"
     ]
    },
    {
     "name": "stdout",
     "output_type": "stream",
     "text": [
      "\n",
      "      Epoch    GPU_mem   box_loss   cls_loss   dfl_loss  Instances       Size\n"
     ]
    },
    {
     "name": "stderr",
     "output_type": "stream",
     "text": [
      "      17/20      6.06G     0.5274     0.3437     0.9252         12        640: 100%|██████████| 311/311 [01:07<00:00,  4.61it/s]\n",
      "                 Class     Images  Instances      Box(P          R      mAP50  mAP50-95): 100%|██████████| 156/156 [00:38<00:00,  4.10it/s]"
     ]
    },
    {
     "name": "stdout",
     "output_type": "stream",
     "text": [
      "                   all       4969       6012      0.938      0.911      0.953      0.825\n"
     ]
    },
    {
     "name": "stderr",
     "output_type": "stream",
     "text": [
      "\n"
     ]
    },
    {
     "name": "stdout",
     "output_type": "stream",
     "text": [
      "\n",
      "      Epoch    GPU_mem   box_loss   cls_loss   dfl_loss  Instances       Size\n"
     ]
    },
    {
     "name": "stderr",
     "output_type": "stream",
     "text": [
      "      18/20      6.01G     0.5163     0.3248     0.9225         13        640: 100%|██████████| 311/311 [01:08<00:00,  4.55it/s]\n",
      "                 Class     Images  Instances      Box(P          R      mAP50  mAP50-95): 100%|██████████| 156/156 [00:38<00:00,  4.11it/s]"
     ]
    },
    {
     "name": "stdout",
     "output_type": "stream",
     "text": [
      "                   all       4969       6012      0.956      0.919      0.964      0.836\n"
     ]
    },
    {
     "name": "stderr",
     "output_type": "stream",
     "text": [
      "\n"
     ]
    },
    {
     "name": "stdout",
     "output_type": "stream",
     "text": [
      "\n",
      "      Epoch    GPU_mem   box_loss   cls_loss   dfl_loss  Instances       Size\n"
     ]
    },
    {
     "name": "stderr",
     "output_type": "stream",
     "text": [
      "      19/20      5.99G     0.5071     0.3141     0.9159         11        640: 100%|██████████| 311/311 [01:08<00:00,  4.57it/s]\n",
      "                 Class     Images  Instances      Box(P          R      mAP50  mAP50-95): 100%|██████████| 156/156 [00:37<00:00,  4.11it/s]"
     ]
    },
    {
     "name": "stdout",
     "output_type": "stream",
     "text": [
      "                   all       4969       6012       0.95      0.927      0.965      0.838\n"
     ]
    },
    {
     "name": "stderr",
     "output_type": "stream",
     "text": [
      "\n"
     ]
    },
    {
     "name": "stdout",
     "output_type": "stream",
     "text": [
      "\n",
      "      Epoch    GPU_mem   box_loss   cls_loss   dfl_loss  Instances       Size\n"
     ]
    },
    {
     "name": "stderr",
     "output_type": "stream",
     "text": [
      "      20/20      6.06G     0.5026     0.3052     0.9086         11        640: 100%|██████████| 311/311 [01:08<00:00,  4.54it/s]\n",
      "                 Class     Images  Instances      Box(P          R      mAP50  mAP50-95): 100%|██████████| 156/156 [00:38<00:00,  4.10it/s]"
     ]
    },
    {
     "name": "stdout",
     "output_type": "stream",
     "text": [
      "                   all       4969       6012      0.954      0.931      0.969      0.844\n"
     ]
    },
    {
     "name": "stderr",
     "output_type": "stream",
     "text": [
      "\n"
     ]
    },
    {
     "name": "stdout",
     "output_type": "stream",
     "text": [
      "\n",
      "20 epochs completed in 0.601 hours.\n",
      "Optimizer stripped from runs/detect/yolov8n_cv_traffic_sign_detection/weights/last.pt, 22.5MB\n",
      "Optimizer stripped from runs/detect/yolov8n_cv_traffic_sign_detection/weights/best.pt, 22.5MB\n",
      "\n",
      "Validating runs/detect/yolov8n_cv_traffic_sign_detection/weights/best.pt...\n",
      "Ultralytics 8.3.34 🚀 Python-3.10.14 torch-2.0.0.post304 CUDA:0 (Tesla T4, 14918MiB)\n",
      "Model summary (fused): 168 layers, 11,131,389 parameters, 0 gradients, 28.5 GFLOPs\n"
     ]
    },
    {
     "name": "stderr",
     "output_type": "stream",
     "text": [
      "                 Class     Images  Instances      Box(P          R      mAP50  mAP50-95): 100%|██████████| 156/156 [00:41<00:00,  3.79it/s]\n"
     ]
    },
    {
     "name": "stdout",
     "output_type": "stream",
     "text": [
      "                   all       4969       6012      0.954      0.931      0.969      0.845\n",
      "           Green Light        568        774      0.928      0.851      0.921      0.622\n",
      "             Red Light        580        787      0.889      0.765      0.854      0.578\n",
      "        Speed Limit 10         16         22      0.807      0.762        0.9      0.761\n",
      "       Speed Limit 100        360        365      0.979      0.986      0.994      0.904\n",
      "       Speed Limit 110        136        139      0.985      0.941      0.982      0.874\n",
      "       Speed Limit 120        342        356      0.962          1      0.995      0.902\n",
      "        Speed Limit 20        380        387      0.946      0.977      0.992      0.909\n",
      "        Speed Limit 30        462        468      0.963      0.938      0.987      0.918\n",
      "        Speed Limit 40        333        343      0.974      0.974      0.992      0.896\n",
      "        Speed Limit 50        381        404      0.977      0.968      0.992      0.889\n",
      "        Speed Limit 60        422        422      0.989      0.953      0.978      0.891\n",
      "        Speed Limit 70        443        449      0.991      0.953      0.987      0.902\n",
      "        Speed Limit 80        434        440      0.972      0.984      0.988      0.885\n",
      "        Speed Limit 90        238        240      0.955      0.908      0.978      0.787\n",
      "                  Stop        416        416      0.991          1      0.995       0.95\n",
      "Speed: 0.5ms preprocess, 5.0ms inference, 0.0ms loss, 0.6ms postprocess per image\n",
      "Results saved to \u001b[1mruns/detect/yolov8n_cv_traffic_sign_detection\u001b[0m\n",
      "2024-11-19 20:34:14,130 - clearml.storage - INFO - Uploading: 21.48MB to runs/detect/yolov8n_cv_traffic_sign_detection/weights/best.pt\n"
     ]
    },
    {
     "name": "stderr",
     "output_type": "stream",
     "text": [
      "███████████████████████████▉    93% | 20.00/21.48 MB [00:00<00:00, 187.00MB/s]: /opt/conda/envs/sagemaker-distribution/lib/python3.10/site-packages/tqdm/std.py:636: TqdmWarning:\n",
      "\n",
      "clamping frac to range [0, 1]\n",
      "\n",
      "███████████████████████████████ 100% | 21.48/21.48 MB [00:00<00:00, 68.68MB/s]: "
     ]
    },
    {
     "name": "stdout",
     "output_type": "stream",
     "text": [
      "2024-11-19 20:34:14,449 - clearml.Task - INFO - Completed model upload to https://files.clear.ml/Ultralytics/yolov8n_v8_50e9.1c51f90e6aa34fa99077e9df8ab55965/models/best.pt\n"
     ]
    },
    {
     "name": "stderr",
     "output_type": "stream",
     "text": [
      "\n"
     ]
    }
   ],
   "source": [
    "from ultralytics import YOLO\n",
    " \n",
    "# Load the model.\n",
    "model = YOLO('yolov8s.pt') # Enter your YOLO model of choice here, we have gone with yolov8n - yolov8 nano\n",
    " \n",
    "# Training.\n",
    "results = model.train(\n",
    "   data='data.yaml', # Enter the path/name of your YAML file  \n",
    "   imgsz=640, # You could go with 1280 for more accurate results, although model size may increase\n",
    "   epochs=20, # You can change the number of epochs the model trains for here\n",
    "   batch=16,\n",
    "   name='yolov8n_cv_traffic_sign_detection' # you can change the output model's name here\n",
    ")"
   ]
  },
  {
   "cell_type": "markdown",
   "id": "132f3f40-98ef-4610-9312-948c52682c70",
   "metadata": {},
   "source": [
    "Alternatively, you can also train in command line:\n",
    "\n",
    "`yolo task=detect mode=train model=yolov8n.pt imgsz=640 data=dataset.yaml epochs=100 batch=16 name=yolov8n_v8_50e`\n",
    "\n",
    "Make sure you replace the fields `model`, `imgz`, `data`, `epochs`, `batch` and `name` accordingly\n",
    "\n",
    "> **Note:** For this to work, you may have to execute `conda install libglib`"
   ]
  },
  {
   "cell_type": "markdown",
   "id": "98902a97-a82e-4bee-bed7-c055a7850971",
   "metadata": {
    "tags": []
   },
   "source": [
    "Your trained model weights will be saves in the `runs/detect` directory"
   ]
  }
 ],
 "metadata": {
  "kernelspec": {
   "display_name": "sagemaker-distribution:Python",
   "language": "python",
   "name": "conda-env-sagemaker-distribution-py"
  },
  "language_info": {
   "codemirror_mode": {
    "name": "ipython",
    "version": 3
   },
   "file_extension": ".py",
   "mimetype": "text/x-python",
   "name": "python",
   "nbconvert_exporter": "python",
   "pygments_lexer": "ipython3",
   "version": "3.10.14"
  }
 },
 "nbformat": 4,
 "nbformat_minor": 5
}
